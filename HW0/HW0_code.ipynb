{
  "nbformat": 4,
  "nbformat_minor": 0,
  "metadata": {
    "colab": {
      "name": "HW0_code.ipynb",
      "provenance": [],
      "authorship_tag": "ABX9TyOX7sB/EtW6nOfhMESCoC8Y",
      "include_colab_link": true
    },
    "kernelspec": {
      "name": "python3",
      "display_name": "Python 3"
    },
    "language_info": {
      "name": "python"
    }
  },
  "cells": [
    {
      "cell_type": "markdown",
      "metadata": {
        "id": "view-in-github",
        "colab_type": "text"
      },
      "source": [
        "<a href=\"https://colab.research.google.com/github/ycnnn/ECE449/blob/HW0/HW0_code.ipynb\" target=\"_parent\"><img src=\"https://colab.research.google.com/assets/colab-badge.svg\" alt=\"Open In Colab\"/></a>"
      ]
    },
    {
      "cell_type": "code",
      "execution_count": null,
      "metadata": {
        "id": "oOpTWLqbcCsJ"
      },
      "outputs": [],
      "source": [
        "import numpy \n",
        "import torch\n",
        "import matplotlib.pyplot as plt\n",
        "\n",
        "## You only need to complete the two functions.\n",
        "def numpy_squares(k):\n",
        "    x = numpy.power(numpy.arange(1,k + 1,1),2)\n",
        "    return x\n",
        "\n",
        "def torch_squares(k):\n",
        "    x = torch.square(torch.arange(1, k+1))\n",
        "    return x\n",
        "\n",
        "x = torch_squares(10)"
      ]
    },
    {
      "cell_type": "code",
      "source": [
        "plt.plot(numpy_squares(30))"
      ],
      "metadata": {
        "colab": {
          "base_uri": "https://localhost:8080/",
          "height": 282
        },
        "id": "Cnoiix2lcFCp",
        "outputId": "603574e8-9a05-4d39-cabf-28451b8764b5"
      },
      "execution_count": null,
      "outputs": [
        {
          "output_type": "execute_result",
          "data": {
            "text/plain": [
              "[<matplotlib.lines.Line2D at 0x7f011b6d8e50>]"
            ]
          },
          "metadata": {},
          "execution_count": 11
        },
        {
          "output_type": "display_data",
          "data": {
            "text/plain": [
              "<Figure size 432x288 with 1 Axes>"
            ],
            "image/png": "[encoded data removed]"
          },
          "metadata": {
            "needs_background": "light"
          }
        }
      ]
    },
    {
      "cell_type": "code",
      "source": [],
      "metadata": {
        "id": "97fcMi_9cZE1"
      },
      "execution_count": null,
      "outputs": []
    }
  ]
}
